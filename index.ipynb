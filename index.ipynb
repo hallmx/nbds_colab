{
 "cells": [
  {
   "cell_type": "code",
   "execution_count": null,
   "metadata": {},
   "outputs": [],
   "source": [
    "#hide\n",
    "from nbds_colab.core import *"
   ]
  },
  {
   "cell_type": "markdown",
   "metadata": {},
   "source": [
    "# nbds_colab\n",
    "\n",
    "> Literate programming for data science using nbdev, jupytemplate and Google Colaboratory"
   ]
  },
  {
   "cell_type": "markdown",
   "metadata": {},
   "source": [
    "nbds_colab is a structured template repo to be used as the basis for small to medium sized data science projects. It sits on the shoulders of the following, combining their best features:\n",
    "\n",
    "* fastai.nbdev - exploratory programming, automated documentation generation, integrated testing and easy PyPi package release [nbdev](https://github.com/fastai/nbdev//) \n",
    "\n",
    "* Google Colaboratory & Drive - low cost cloud computing with acceleration [Colaboratory](https://colab.research.google.com/)\n",
    "\n",
    "* jupytemplate - standardized notebooks for data science [Xstreamrl](https://github.com/xtreamsrl/jupytemplate)\n",
    "\n",
    "* Full GitHub integration\n",
    "\n",
    "The result is a complete low friction workflow for your project, from first code to package release.\n",
    "\n"
   ]
  },
  {
   "cell_type": "markdown",
   "metadata": {},
   "source": [
    "## Getting started"
   ]
  },
  {
   "cell_type": "markdown",
   "metadata": {},
   "source": [
    "The following assumes a working knowledge of the nbdev exploratory programming system, jupiter notebooks, Google Colaboratory (Colab), Google Drive and have a GitHub account. For more information on nbdev view the [documentation](http://nbdev.fast.ai/)\n",
    "\n",
    "* Make sure you are logged in to your GitHub account then create a new GitHub repo from our template repo:  [nbds_colab_template](https://github.com/hallmx/nbds_colab/generate). Fill in the requested info and click 'Create repository from template'. \n",
    "\n",
    "* From GitHub, edit the `settings.ini` file of the new repo with your own personal and package information as described in the nbdev [documentation](http://nbdev.fast.ai/) and [tutorial](http://nbdev.fast.ai/tutorial/). Additionally add any dependencies to the 'requirements' setting (requirements = dep1, dep2 etc) also in settings.ini. A set of test_flags have been added which can be customized if needed. \n",
    "\n",
    "* Activate GitHub Pages to display automatic documentation: click on settings, then scroll down to GitHub Pages and select 'master branch/docs folder'. Edit the repo description by adding the auto-generated GitHub Pages link to the box next to the repo description at the top of the page.\n",
    "\n",
    "* Finally clone the new repo to your Google Drive. A detailed description of how, and helpful tools to accomplish this, are provided by nbds-colabs's sister library, nbd_colab. The nbd_colab [documentation](https://github.com/hallmx/nbd_colab) will guide you through library installation and then cloning the new repo to your Google Drive as well as configuring it for GitHub integration. \n",
    "\n"
   ]
  },
  {
   "cell_type": "markdown",
   "metadata": {},
   "source": [
    "## The cloned template repo is now a template for your project."
   ]
  },
  {
   "cell_type": "markdown",
   "metadata": {},
   "source": [
    "You should now have a project directory somewhere permanant on your Google Drive and linked to a remote repo on GitHub. You can open the project notebooks (.ipynb files with names prefixed with '00' to '16') in Google Colab and edit them as any other Colab notebook. \n",
    "\n",
    "The project notebooks are set up for integration with the nbdev programming environment and Google Colab/google Drive. If you are not familiar with nbdev or how it works with Google Colab, take a look at the nbdev [documentation](http://nbdev.fast.ai/) and/or [tutorial](http://nbdev.fast.ai/tutorial/). Then read about how nbds_colab's sister package, nbd_colab, makes nbdev-Colaboratory-Drive-GitHub integration a walk in the park [here](https://github.com/hallmx/nbd_colab). "
   ]
  },
  {
   "cell_type": "markdown",
   "metadata": {},
   "source": [
    "## Project template structure"
   ]
  },
  {
   "cell_type": "markdown",
   "metadata": {},
   "source": [
    "The template repo is structured to allow small to medium sized data science projects to be broken down into manageable units, each with its own notebook. You can put anything anywhere but if you are going to run with the already established project structure,  our idea of what should go where is as follows: \n",
    "\n",
    "* `00_core`: core functionality for the project (optional). \n",
    "\n",
    "* `01_dstemplate1` - `03_`: data science templates to edit with the project code. \n",
    "\n",
    "* `04_` - `07_` to add more!\n",
    "\n",
    "* `08_ensemble1` - `09_`: code to ensemble different models from `01_dstemplate` to `03_`.\n",
    "\n",
    "* `10_final`: the final project outcome or model.\n",
    "\n",
    "* `11_common`: code, classes and functions shared between template files.\n",
    "\n",
    "* `12_vis`: plots, image manipulation and code required for data visualization\n",
    "\n",
    "* `13_dataproc`: shared data processing , preprocessing and feature engineering functionality\n",
    "\n",
    "* `14_data`: data aquisition, initial processing and source description(s)\n",
    "\n",
    "* `15_refs`: place all the project references and citations in one place for quick lookup\n",
    "\n"
   ]
  },
  {
   "cell_type": "markdown",
   "metadata": {},
   "source": [
    "## Customizing the project template"
   ]
  },
  {
   "cell_type": "markdown",
   "metadata": {},
   "source": [
    "Before the first commit and push to GitHub is a good time to customize the template for your particular project. \n",
    "\n",
    "* delete unwanted notebooks (simply remove them from Google Drive) and add new notebooks (see the nbd_colab documentation on how to do this) so that the repo has the desired project structure. \n",
    "\n",
    "* You can rename the 'dstemplate', 'ensemble' and 'final' notebooks to something more meaningful for your project but remember to keep the nbdev naming convention of progressive double digits following by the new name. Xstreamrl recommend also including the authors initials - so something like, e.g. 00_AB_data_exploration.ipynb or AB_00_data_exploration.ipynb. Don't forget to ammend any associated import statements to the new nb name as well! \n",
    "\n",
    "* update all `#default_exp` flags with the new notebook name and don't forget to update all local imports similarly. Remove unwanted imports and add new ones as required. \n",
    "\n",
    "* customize test_flags for development. As welkl as the built in `all_flags` the template ships with the following custom test_flags: `test_flag_colab`, `test_flag_import`s, `test_flag_GPU`, `test_flag_slow`, `test_flag_large`, and `test_flag_other`. Use these or create your own by editing settings.ini.\n",
    "\n",
    "Build the project library and documentation and check for diffs as described in the nbdev [documentation](http://nbdev.fast.ai/) and [nbd_colab](https://github.com/hallmx/nbd_colab). Run tests with `nbdev_test_nbs` and, if all is well, push the customized template to Github. "
   ]
  },
  {
   "cell_type": "markdown",
   "metadata": {},
   "source": [
    "## The data science templates"
   ]
  },
  {
   "cell_type": "markdown",
   "metadata": {},
   "source": [
    "The jupyter notebook data science templates are adapted from [xstreamsrl's jupytemplate](https://github.com/xtreamsrl/jupytemplate) project where the aim is to provide a greater degree of structure and standardization to data science projects. Here we take the natural next step and place them into a literate programming environment. Dive in and edit them as needed for your project. \n",
    "\n"
   ]
  },
  {
   "cell_type": "markdown",
   "metadata": {},
   "source": [
    "## The project life cycle"
   ]
  },
  {
   "cell_type": "markdown",
   "metadata": {},
   "source": [
    "There is a certain life cycle to projects with nbdev in Google Colab. \n",
    "\n",
    "* edit notebooks as required. each Colab notebook must install and import all it's own dependencies.\n",
    "\n",
    "* write tests and documentation straight into the notebook alongside (well above or below!) the realted code\n",
    "\n",
    "* consider which cells should be exported as .py scripts, which should be included in the documentation etc and add  appropriate flags to the top of cells. \n",
    "\n",
    "* review cell outputs - some you will want to show in the documentation and some you will want to hide by collapsing the output.\n",
    "\n",
    "* when done, check the notebook can run independently top to toe. If not, debug or consider adding test_flags.\n",
    "\n",
    "* Build the library, build the documentation and check for diffs\n",
    "\n",
    "* run tests with `nbdev_test_nbs` \n",
    "\n",
    "* push the new version to GitHub. Check the GitHub Actions panel and review documentation on GitHub pages to ensure all is as expected. \n",
    "\n",
    "* New package versions can be released on PyPi with a few simple commands\n",
    "\n",
    "* Repeat the cycle.\n",
    "\n",
    "Read the nbdev [documentation](http://nbdev.fast.ai/) and nbd_colab [guide](https://github.com/hallmx/nbd_colab) for more information and help with any of the above steps . "
   ]
  }
 ],
 "metadata": {
  "kernelspec": {
   "display_name": "Python 3",
   "language": "python",
   "name": "python3"
  }
 },
 "nbformat": 4,
 "nbformat_minor": 0
}
